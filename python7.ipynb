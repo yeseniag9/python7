{
 "cells": [
  {
   "cell_type": "markdown",
   "metadata": {},
   "source": [
    "# Algorithms, Binary Search & Linked Lists"
   ]
  },
  {
   "cell_type": "markdown",
   "metadata": {},
   "source": [
    "## Tasks Today:\n",
    " \n",
    "1) <b>In-Place Algorithms</b> <br>\n",
    " &nbsp;&nbsp;&nbsp;&nbsp; a) Syntax <br>\n",
    " &nbsp;&nbsp;&nbsp;&nbsp; a) Out of Place Algorithm <br>\n",
    " &nbsp;&nbsp;&nbsp;&nbsp; b) In-Class Exercise #1 <br>\n",
    "2) <b>Two Pointers</b> <br>\n",
    "3) <b>Merge Sort</b> <br>\n",
    " &nbsp;&nbsp;&nbsp;&nbsp; a) Video on Algorithms <br>\n",
    " &nbsp;&nbsp;&nbsp;&nbsp; b) How it Works <br>\n",
    "4) <b>Exercises</b> <br>\n",
    " &nbsp;&nbsp;&nbsp;&nbsp; a) Exercise #1 - Reverse a List in Place Using an In-Place Algorithm <br>\n",
    " &nbsp;&nbsp;&nbsp;&nbsp; b) Exercise #2 - Find Distinct Words <br>\n",
    " &nbsp;&nbsp;&nbsp;&nbsp; c) Exercise #3 - Write a program to implement a Linear Search Algorithm. <br>"
   ]
  },
  {
   "cell_type": "markdown",
   "metadata": {},
   "source": [
    "## In-Place Algorithms"
   ]
  },
  {
   "cell_type": "markdown",
   "metadata": {},
   "source": [
    "#### Syntax"
   ]
  },
  {
   "cell_type": "code",
   "execution_count": 4,
   "metadata": {},
   "outputs": [
    {
     "name": "stdout",
     "output_type": "stream",
     "text": [
      "Before swap: [20, 4, 10]\n",
      "20\n",
      "After swap: [10, 4, 20]\n",
      "10\n"
     ]
    }
   ],
   "source": [
    "#var[i], var[i + 1] = var[i + 1], var[i]\n",
    "#Sometimes known as a swap algorithm\n",
    "\n",
    "def swap(a_list, x, y, z):\n",
    "    a_list[x], a_list[y], a_list[z] = a_list[z], a_list[y], a_list[x]\n",
    "    return a_list\n",
    "\n",
    "my_list = [20, 4, 10]\n",
    "print(f\"Before swap: {my_list}\")\n",
    "print(my_list[0])\n",
    "\n",
    "#swap(my_list, 2, 0, 1)\n",
    "swap (my_list, 0, 1 ,2)\n",
    "\n",
    "print(f\"After swap: {my_list}\")\n",
    "print(my_list[0])"
   ]
  },
  {
   "cell_type": "markdown",
   "metadata": {},
   "source": [
    "#### Out of Place Algorithm"
   ]
  },
  {
   "cell_type": "code",
   "execution_count": 16,
   "metadata": {},
   "outputs": [
    {
     "name": "stdout",
     "output_type": "stream",
     "text": [
      "[20, 4, 10]\n",
      "[10, 4, 20]\n",
      "Before  ['a', 'b', 'c', 'd']\n",
      "After  ['d', 'c', 'b', 'a']\n",
      "Original  ['a', 'b', 'c', 'd']\n"
     ]
    }
   ],
   "source": [
    "#Not swapping, completely reversing BUT also copies to another place in memory\n",
    "\n",
    "my_list_copy = my_list[::-1]\n",
    "print(my_list_copy)\n",
    "print(my_list)\n",
    "\n",
    "array = ['a', 'b', 'c', 'd']\n",
    "new_array = ['a'] * len(array)\n",
    "\n",
    "print(\"Before \", array)\n",
    "length = len(array) - 1\n",
    "\n",
    "for i in range(length):\n",
    "    new_array[i] = array[length - i]\n",
    "\n",
    "#array = new_array\n",
    "print(\"After \", new_array)\n",
    "\n",
    "print(\"Original \", array)"
   ]
  },
  {
   "cell_type": "markdown",
   "metadata": {},
   "source": [
    "#### In-Class Exercise #1 <br>\n",
    "<p>Write a function that takes in four arguments (list, index1, index2, index3), and swaps those three positions in the list passed in.</p>"
   ]
  },
  {
   "cell_type": "code",
   "execution_count": 37,
   "metadata": {},
   "outputs": [
    {
     "name": "stdout",
     "output_type": "stream",
     "text": [
      "[6, 2, 4, 8, 3, 4, 10]\n"
     ]
    }
   ],
   "source": [
    "l_1 = [10, 4, 3, 8, 4, 2, 6]\n",
    "\n",
    "def switch(lists, x, y, z):\n",
    "    lists[x], lists[y], lists[z] = lists[z], lists[y], lists[x]\n",
    "    return lists\n",
    "\n",
    "#solution 2\n",
    "def switch(lists, a, b, c, d, e, f, g):\n",
    "    lists[a], lists[b], lists[c], lists[d], lists[e], lists[f], lists[g] = lists[g], lists[f], lists[e], lists[d], lists[c], lists[b], lists[a]\n",
    "    return lists\n",
    "\n",
    "print(switch(l_1, 0, 1, 2, 3, 4, 5, 6))"
   ]
  },
  {
   "cell_type": "markdown",
   "metadata": {},
   "source": [
    "## Two Pointers"
   ]
  },
  {
   "cell_type": "markdown",
   "metadata": {},
   "source": [
    "#### Syntax"
   ]
  },
  {
   "cell_type": "code",
   "execution_count": 18,
   "metadata": {},
   "outputs": [
    {
     "data": {
      "text/plain": [
       "[22, 11, 4, 8, 9, 12, 3, 2, 1]"
      ]
     },
     "execution_count": 18,
     "metadata": {},
     "output_type": "execute_result"
    }
   ],
   "source": [
    "#alist[left], alist[right] = alist[right], alist[left]\n",
    "def twoPointers(alist):\n",
    "    #create the pointers\n",
    "    left = 0\n",
    "    right = len(alist) - 1\n",
    "    #set up a loop that works through our list and swaps things one pair at a time\n",
    "    while left <= right:\n",
    "        alist[left], alist[right] = alist[right], alist[left]\n",
    "        left += 1\n",
    "        right -= 1\n",
    "    return alist\n",
    "\n",
    "my_list2 = [1, 2, 3, 12, 9, 8, 4, 11, 22]\n",
    "twoPointers(my_list2)"
   ]
  },
  {
   "cell_type": "markdown",
   "metadata": {},
   "source": [
    "#### Video of Algorithms <br>\n",
    "<p>Watch the video about algorithms.</p>\n",
    "\n",
    "https://www.youtube.com/watch?v=Q9HjeFD62Uk\n",
    "\n",
    "https://www.youtube.com/watch?v=kPRA0W1kECg\n",
    "\n",
    "https://www.youtube.com/watch?v=ZZuD6iUe3Pc"
   ]
  },
  {
   "cell_type": "markdown",
   "metadata": {},
   "source": [
    "# Sorting Algorithms"
   ]
  },
  {
   "cell_type": "markdown",
   "metadata": {},
   "source": [
    "#### Bubble Sort\n",
    "\n",
    "Worst Case: O(n^2) Time - O(1) Space"
   ]
  },
  {
   "cell_type": "code",
   "execution_count": 20,
   "metadata": {},
   "outputs": [
    {
     "data": {
      "text/plain": [
       "[1, 22, 34, 44, 55, 66, 88, 100]"
      ]
     },
     "execution_count": 20,
     "metadata": {},
     "output_type": "execute_result"
    }
   ],
   "source": [
    "#Best case: O(n) - linear\n",
    "def swap(i, j, array):\n",
    "    array[i], array[j] = array[j], array[i]\n",
    "    \n",
    "def bubbleSort(array):\n",
    "    isSorted = False\n",
    "    while not isSorted:\n",
    "        isSorted = True\n",
    "        for num in range(len(array) - 1):\n",
    "            if array[num] > array[num + 1]:\n",
    "                swap(num, num + 1, array)\n",
    "                isSorted = False\n",
    "    return array\n",
    "bubbleSort([22, 55, 88, 44, 1, 100, 34, 66])"
   ]
  },
  {
   "cell_type": "markdown",
   "metadata": {},
   "source": [
    "##### Insertion Sort\n",
    "\n",
    "Worst Case: O(n^2) time - O(1)space"
   ]
  },
  {
   "cell_type": "code",
   "execution_count": 21,
   "metadata": {},
   "outputs": [
    {
     "data": {
      "text/plain": [
       "[1, 22, 34, 44, 55, 66, 88, 100]"
      ]
     },
     "execution_count": 21,
     "metadata": {},
     "output_type": "execute_result"
    }
   ],
   "source": [
    "def swap(i, j, array):\n",
    "    array[i], array[j] = array[j], array[i]\n",
    "    \n",
    "def insertionSort(array):\n",
    "    for i in range(1, len(array)):\n",
    "        j = i\n",
    "        while j > 0 and array[j] < array[j - 1]:\n",
    "            swap(j, j - 1, array)\n",
    "            j -= 1\n",
    "    return array\n",
    "\n",
    "insertionSort([22, 55, 88, 44, 1, 100, 34, 66])"
   ]
  },
  {
   "cell_type": "markdown",
   "metadata": {},
   "source": [
    "## Merge Sort"
   ]
  },
  {
   "cell_type": "markdown",
   "metadata": {},
   "source": [
    "#### How it Works"
   ]
  },
  {
   "cell_type": "code",
   "execution_count": 28,
   "metadata": {},
   "outputs": [
    {
     "name": "stdout",
     "output_type": "stream",
     "text": [
      "Splitting...  [12, 1, 11, 6, 15]\n",
      "Splitting...  [12, 1]\n",
      "Splitting...  [12]\n",
      "Merging...  [12]\n",
      "Splitting...  [1]\n",
      "Merging...  [1]\n",
      "Merging...  [1, 12]\n",
      "Splitting...  [11, 6, 15]\n",
      "Splitting...  [11]\n",
      "Merging...  [11]\n",
      "Splitting...  [6, 15]\n",
      "Splitting...  [6]\n",
      "Merging...  [6]\n",
      "Splitting...  [15]\n",
      "Merging...  [15]\n",
      "Merging...  [6, 15]\n",
      "Merging...  [6, 11, 15]\n",
      "Merging...  [1, 6, 11, 12, 15]\n"
     ]
    },
    {
     "data": {
      "text/plain": [
       "[1, 6, 11, 12, 15]"
      ]
     },
     "execution_count": 28,
     "metadata": {},
     "output_type": "execute_result"
    }
   ],
   "source": [
    "#Step 1: Split everything into it's own group\n",
    "#Step 2: From left to right, merge two groups together\n",
    "#Step 3: While merging, place each item in the correct position within the merged group\n",
    "#Step 4: continue steps 3 - 4 until only one group is left\n",
    "\n",
    "from random import randint\n",
    "#used to generate a random list of 5 numbers from 0 to 20\n",
    "nums = [randint(0, 20) for i in range(5)]\n",
    "\n",
    "#write our merge sort below\n",
    "def mergeSort(alist):\n",
    "    print(\"Splitting... \", alist)\n",
    "    \n",
    "    #Step 1: Divide the array into equal parts(as much as possible)\n",
    "    if len(alist) > 1:\n",
    "        mid = len(alist) // 2\n",
    "        lefthalf = alist[:mid]\n",
    "        righthalf = alist[mid:]\n",
    "    \n",
    "    #recursively call mergeSort to perform splits if needed\n",
    "    #THEN merge once the splits are done\n",
    "        mergeSort(lefthalf)\n",
    "        mergeSort(righthalf)\n",
    "    \n",
    "    #index pointers for our list\n",
    "        i = 0 #pointer for our left half\n",
    "        j = 0 #pointer for our right half\n",
    "        k = 0 #pointer for our main array\n",
    "    \n",
    "    #Step 2: Compare the lefthalf and the righthalf\n",
    "        while i < len(lefthalf) and j < len(righthalf):\n",
    "            if lefthalf[i] < righthalf[j]:\n",
    "                alist[k] = lefthalf[i]\n",
    "                i = i + 1\n",
    "            else:\n",
    "                alist[k] = righthalf[j]\n",
    "                j = j + 1\n",
    "            k = k + 1\n",
    "            \n",
    "        #Step 3: While merging, place items in the correct positions\n",
    "        while i < len(lefthalf):\n",
    "            alist[k] = lefthalf[i]\n",
    "            i = i + 1\n",
    "            k = k + 1\n",
    "        while j < len(righthalf):\n",
    "            alist[k] = righthalf[j]\n",
    "            j = j + 1\n",
    "            k = k + 1\n",
    "    print(\"Merging... \", alist)\n",
    "    return alist\n",
    "\n",
    "mergeSort(nums)"
   ]
  },
  {
   "cell_type": "markdown",
   "metadata": {},
   "source": [
    "# Binary Search\n",
    "\n",
    "The Binary Search algorithm works by finding the number in the middle of a given array and comparing it to the target. Given that the array is sorted\n",
    "\n",
    "* The worst case run time for this algorithm is `O(log(n))`"
   ]
  },
  {
   "cell_type": "code",
   "execution_count": 29,
   "metadata": {},
   "outputs": [
    {
     "data": {
      "text/plain": [
       "'The index is... 1'"
      ]
     },
     "execution_count": 29,
     "metadata": {},
     "output_type": "execute_result"
    }
   ],
   "source": [
    "#Less = left\n",
    "#Greater = right\n",
    "#List of numbers MUST be sorted!!!\n",
    "\n",
    "def binarySearchHelperFunction(array, target, left, right):\n",
    "    while left <= right:\n",
    "        middle = (left + right) // 2\n",
    "        potentialMatch = array[middle]\n",
    "        if target == potentialMatch:\n",
    "            return f\"The index is... {middle}\"\n",
    "        elif target < potentialMatch:\n",
    "            right = middle - 1\n",
    "        else:\n",
    "            left = middle + 1\n",
    "    return - 1\n",
    "\n",
    "def binarySearch(array, target):\n",
    "    return binarySearchHelperFunction(array, target, 0, len(array) - 1)\n",
    "\n",
    "binarySearch([22, 44, 55, 66, 88, 100], 44)"
   ]
  },
  {
   "cell_type": "markdown",
   "metadata": {},
   "source": [
    "# Exercises"
   ]
  },
  {
   "cell_type": "markdown",
   "metadata": {},
   "source": [
    "### Exercise #1 <br>\n",
    "<p>Reverse the list below in-place using an in-place algorithm.<br>For extra credit: Reverse the strings at the same time.</p>"
   ]
  },
  {
   "cell_type": "code",
   "execution_count": 16,
   "metadata": {},
   "outputs": [
    {
     "name": "stdout",
     "output_type": "stream",
     "text": [
      "['.', 'ecnetnes', 'a', 'si', 'siht']\n"
     ]
    }
   ],
   "source": [
    "words = ['this' , 'is', 'a', 'sentence', '.']\n",
    "#Output: words = ['.', 'ecnetens', 'a', 'si', 'sith']\n",
    "\n",
    "listLength = len(words)\n",
    "\n",
    "for i in range(listLength // 2):\n",
    "    words[i], words[listLength - 1 - i] = words[listLength - 1 - i], words[i]\n",
    "    \n",
    "words_rev = [i[::-1] for i in words]\n",
    "\n",
    "print(words_rev)"
   ]
  },
  {
   "cell_type": "markdown",
   "metadata": {},
   "source": [
    "### Exercise #2 <br>\n",
    "<p>Create a function that counts how many distinct words are in the string below, then outputs a dictionary with the words as the key and the value as the amount of times that word appears in the string.<br>Should output:<br>{'a': 5,<br>\n",
    " 'abstract': 1,<br>\n",
    " 'an': 3,<br>\n",
    " 'array': 2, ... etc...</p>"
   ]
  },
  {
   "cell_type": "code",
   "execution_count": 44,
   "metadata": {},
   "outputs": [
    {
     "data": {
      "text/plain": [
       "{'a': 5,\n",
       " 'abstract': 1,\n",
       " 'an': 3,\n",
       " 'array': 2,\n",
       " 'associative': 1,\n",
       " 'be': 1,\n",
       " 'buckets': 1,\n",
       " 'can': 2,\n",
       " 'compute': 1,\n",
       " 'computing,': 1,\n",
       " 'data': 2,\n",
       " 'desired': 1,\n",
       " 'found': 1,\n",
       " 'from': 1,\n",
       " 'function': 1,\n",
       " 'hash': 4,\n",
       " 'implements': 1,\n",
       " 'in': 1,\n",
       " 'index': 1,\n",
       " 'into': 1,\n",
       " 'is': 1,\n",
       " 'keys': 1,\n",
       " 'map': 2,\n",
       " 'of': 1,\n",
       " 'or': 1,\n",
       " 'slots': 1,\n",
       " 'structure': 2,\n",
       " 'table': 2,\n",
       " 'that': 1,\n",
       " 'the': 1,\n",
       " 'to': 2,\n",
       " 'type,': 1,\n",
       " 'uses': 1,\n",
       " 'value': 1,\n",
       " 'values.': 1,\n",
       " 'which': 2}"
      ]
     },
     "execution_count": 44,
     "metadata": {},
     "output_type": "execute_result"
    }
   ],
   "source": [
    "a_text = 'In computing, a hash table hash map is a data structure which implements an associative array abstract data type, a structure that can map keys to values. A hash table uses a hash function to compute an index into an array of buckets or slots from which the desired value can be found'\n",
    "\n",
    "def word_count(a_text):\n",
    "    string = a_text.lower()\n",
    "    word_dict = {}\n",
    "    word_list = string.split() #.split() means to seperate string into many strings \n",
    "    for smaller_string in word_list:\n",
    "        count = 0\n",
    "        for word in word_list:\n",
    "            if smaller_string == word:\n",
    "                count +=1\n",
    "        word_dict[smaller_string] = count\n",
    "        \n",
    "    sorted_keys = sorted(word_dict.keys())\n",
    "    sorted_dict = {key:word_dict[key] for key in sorted_keys}\n",
    "\n",
    "    return sorted_dict\n",
    "\n",
    "word_count(a_text)"
   ]
  },
  {
   "cell_type": "markdown",
   "metadata": {},
   "source": [
    "## Exercise #3\n",
    "\n",
    "Write a program to implement a Linear Search Algorithm. Also in a comment, write the Time Complexity of the following algorithm.\n",
    "\n",
    "#### Hint: Linear Searching will require searching a list for a given number. "
   ]
  },
  {
   "cell_type": "code",
   "execution_count": 58,
   "metadata": {},
   "outputs": [
    {
     "name": "stdout",
     "output_type": "stream",
     "text": [
      "Number is at index 3\n"
     ]
    }
   ],
   "source": [
    "nums_list = [10, 23, 45, 70, 11, 15]\n",
    "target = 70\n",
    "\n",
    "def linear_search(arr, N, x):\n",
    " \n",
    "    for i in range(0, N):\n",
    "        if (arr[i] == x):\n",
    "            return i\n",
    "    return -1\n",
    " \n",
    "arr = nums_list\n",
    "x = 70\n",
    "N = len(arr)\n",
    " \n",
    "result = linear_search(arr, N, x)\n",
    "if(result == -1):\n",
    "    print(result)\n",
    "else:\n",
    "    print(\"Number is at index\", result)\n",
    "        \n",
    "#Time Complexity: Average Case"
   ]
  }
 ],
 "metadata": {
  "kernelspec": {
   "display_name": "Python 3 (ipykernel)",
   "language": "python",
   "name": "python3"
  },
  "language_info": {
   "codemirror_mode": {
    "name": "ipython",
    "version": 3
   },
   "file_extension": ".py",
   "mimetype": "text/x-python",
   "name": "python",
   "nbconvert_exporter": "python",
   "pygments_lexer": "ipython3",
   "version": "3.9.12"
  }
 },
 "nbformat": 4,
 "nbformat_minor": 2
}
